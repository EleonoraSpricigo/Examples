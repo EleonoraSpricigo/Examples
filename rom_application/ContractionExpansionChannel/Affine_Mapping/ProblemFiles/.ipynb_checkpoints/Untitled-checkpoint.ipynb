{
 "cells": [
  {
   "cell_type": "code",
   "execution_count": null,
   "id": "bbeaaa45",
   "metadata": {},
   "outputs": [],
   "source": [
    "# Copy the RomPython folder to your own drive and run this cell to use the notebook in google colab\n",
    "\n",
    "from google.colab import drive\n",
    "drive.mount('/content/drive/')"
   ]
  },
  {
   "cell_type": "code",
   "execution_count": null,
   "id": "a2a6c2f6",
   "metadata": {},
   "outputs": [],
   "source": [
    "!pip install KratosMultiphysics\n",
    "!pip install KratosRomApplication\n",
    "!pip install KratosStructuralMechanicsApplication\n",
    "!pip install KratosLinearSolversApplication\n",
    "!pip install KratosConstitutiveLawsApplication"
   ]
  },
  {
   "cell_type": "code",
   "execution_count": null,
   "id": "af25d338",
   "metadata": {},
   "outputs": [],
   "source": [
    "from KratosMultiphysics.StructuralMechanicsApplication.structural_mechanics_analysis import StructuralMechanicsAnalysis\n",
    "from KratosMultiphysics.RomApplication.rom_testing_utilities import SetUpSimulationInstance\n",
    "import KratosMultiphysics"
   ]
  },
  {
   "cell_type": "code",
   "execution_count": null,
   "id": "98750e24",
   "metadata": {},
   "outputs": [],
   "source": [
    "with open(\"/content/drive/MyDrive/WinterSchool2023_Examples_test/stanford_bunny/ProjectParameters.json\",'r') as parameter_file:\n",
    "    parameters = KratosMultiphysics.Parameters(parameter_file.read())\n",
    "model = KratosMultiphysics.Model()\n",
    "simulation = StructuralMechanicsAnalysis(model,parameters)\n",
    "simulation.Run()"
   ]
  },
  {
   "cell_type": "code",
   "execution_count": null,
   "id": "e5bd6eb5",
   "metadata": {},
   "outputs": [],
   "source": []
  }
 ],
 "metadata": {
  "kernelspec": {
   "display_name": "Python 3",
   "language": "python",
   "name": "python3"
  }
 },
 "nbformat": 4,
 "nbformat_minor": 5
}
